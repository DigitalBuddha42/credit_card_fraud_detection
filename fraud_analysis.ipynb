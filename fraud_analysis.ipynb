{
 "cells": [
  {
   "cell_type": "code",
   "execution_count": 1,
   "metadata": {},
   "outputs": [],
   "source": [
    "import numpy as np\n",
    "import pandas as pd \n",
    "import matplotlib.pyplot as plt\n",
    "import sklearn as sk\n",
    "import sklearn.datasets\n",
    "from pandas import Series, DataFrame\n",
    "from sklearn import tree\n"
   ]
  },
  {
   "cell_type": "markdown",
   "metadata": {},
   "source": [
    "# Import and Preview"
   ]
  },
  {
   "cell_type": "code",
   "execution_count": 2,
   "metadata": {},
   "outputs": [
    {
     "data": {
      "text/html": [
       "<div>\n",
       "<style scoped>\n",
       "    .dataframe tbody tr th:only-of-type {\n",
       "        vertical-align: middle;\n",
       "    }\n",
       "\n",
       "    .dataframe tbody tr th {\n",
       "        vertical-align: top;\n",
       "    }\n",
       "\n",
       "    .dataframe thead th {\n",
       "        text-align: right;\n",
       "    }\n",
       "</style>\n",
       "<table border=\"1\" class=\"dataframe\">\n",
       "  <thead>\n",
       "    <tr style=\"text-align: right;\">\n",
       "      <th></th>\n",
       "      <th>step</th>\n",
       "      <th>type</th>\n",
       "      <th>amount</th>\n",
       "      <th>nameOrig</th>\n",
       "      <th>oldbalanceOrg</th>\n",
       "      <th>newbalanceOrig</th>\n",
       "      <th>nameDest</th>\n",
       "      <th>oldbalanceDest</th>\n",
       "      <th>newbalanceDest</th>\n",
       "      <th>isFraud</th>\n",
       "      <th>isFlaggedFraud</th>\n",
       "    </tr>\n",
       "  </thead>\n",
       "  <tbody>\n",
       "    <tr>\n",
       "      <th>0</th>\n",
       "      <td>1</td>\n",
       "      <td>PAYMENT</td>\n",
       "      <td>9839.64</td>\n",
       "      <td>C1231006815</td>\n",
       "      <td>170136.0</td>\n",
       "      <td>160296.36</td>\n",
       "      <td>M1979787155</td>\n",
       "      <td>0.0</td>\n",
       "      <td>0.0</td>\n",
       "      <td>0</td>\n",
       "      <td>0</td>\n",
       "    </tr>\n",
       "    <tr>\n",
       "      <th>1</th>\n",
       "      <td>1</td>\n",
       "      <td>PAYMENT</td>\n",
       "      <td>1864.28</td>\n",
       "      <td>C1666544295</td>\n",
       "      <td>21249.0</td>\n",
       "      <td>19384.72</td>\n",
       "      <td>M2044282225</td>\n",
       "      <td>0.0</td>\n",
       "      <td>0.0</td>\n",
       "      <td>0</td>\n",
       "      <td>0</td>\n",
       "    </tr>\n",
       "    <tr>\n",
       "      <th>2</th>\n",
       "      <td>1</td>\n",
       "      <td>TRANSFER</td>\n",
       "      <td>181.00</td>\n",
       "      <td>C1305486145</td>\n",
       "      <td>181.0</td>\n",
       "      <td>0.00</td>\n",
       "      <td>C553264065</td>\n",
       "      <td>0.0</td>\n",
       "      <td>0.0</td>\n",
       "      <td>1</td>\n",
       "      <td>0</td>\n",
       "    </tr>\n",
       "    <tr>\n",
       "      <th>3</th>\n",
       "      <td>1</td>\n",
       "      <td>CASH_OUT</td>\n",
       "      <td>181.00</td>\n",
       "      <td>C840083671</td>\n",
       "      <td>181.0</td>\n",
       "      <td>0.00</td>\n",
       "      <td>C38997010</td>\n",
       "      <td>21182.0</td>\n",
       "      <td>0.0</td>\n",
       "      <td>1</td>\n",
       "      <td>0</td>\n",
       "    </tr>\n",
       "    <tr>\n",
       "      <th>4</th>\n",
       "      <td>1</td>\n",
       "      <td>PAYMENT</td>\n",
       "      <td>11668.14</td>\n",
       "      <td>C2048537720</td>\n",
       "      <td>41554.0</td>\n",
       "      <td>29885.86</td>\n",
       "      <td>M1230701703</td>\n",
       "      <td>0.0</td>\n",
       "      <td>0.0</td>\n",
       "      <td>0</td>\n",
       "      <td>0</td>\n",
       "    </tr>\n",
       "  </tbody>\n",
       "</table>\n",
       "</div>"
      ],
      "text/plain": [
       "   step      type    amount     nameOrig  oldbalanceOrg  newbalanceOrig  \\\n",
       "0     1   PAYMENT   9839.64  C1231006815       170136.0       160296.36   \n",
       "1     1   PAYMENT   1864.28  C1666544295        21249.0        19384.72   \n",
       "2     1  TRANSFER    181.00  C1305486145          181.0            0.00   \n",
       "3     1  CASH_OUT    181.00   C840083671          181.0            0.00   \n",
       "4     1   PAYMENT  11668.14  C2048537720        41554.0        29885.86   \n",
       "\n",
       "      nameDest  oldbalanceDest  newbalanceDest  isFraud  isFlaggedFraud  \n",
       "0  M1979787155             0.0             0.0        0               0  \n",
       "1  M2044282225             0.0             0.0        0               0  \n",
       "2   C553264065             0.0             0.0        1               0  \n",
       "3    C38997010         21182.0             0.0        1               0  \n",
       "4  M1230701703             0.0             0.0        0               0  "
      ]
     },
     "execution_count": 2,
     "metadata": {},
     "output_type": "execute_result"
    }
   ],
   "source": [
    "fraud = pd.read_csv('fraud_data.csv')\n",
    "fraud.head()"
   ]
  },
  {
   "cell_type": "code",
   "execution_count": 3,
   "metadata": {},
   "outputs": [
    {
     "data": {
      "text/html": [
       "<div>\n",
       "<style scoped>\n",
       "    .dataframe tbody tr th:only-of-type {\n",
       "        vertical-align: middle;\n",
       "    }\n",
       "\n",
       "    .dataframe tbody tr th {\n",
       "        vertical-align: top;\n",
       "    }\n",
       "\n",
       "    .dataframe thead th {\n",
       "        text-align: right;\n",
       "    }\n",
       "</style>\n",
       "<table border=\"1\" class=\"dataframe\">\n",
       "  <thead>\n",
       "    <tr style=\"text-align: right;\">\n",
       "      <th></th>\n",
       "      <th>step</th>\n",
       "      <th>amount</th>\n",
       "      <th>oldbalanceOrg</th>\n",
       "      <th>newbalanceOrig</th>\n",
       "      <th>oldbalanceDest</th>\n",
       "      <th>newbalanceDest</th>\n",
       "      <th>isFraud</th>\n",
       "      <th>isFlaggedFraud</th>\n",
       "    </tr>\n",
       "  </thead>\n",
       "  <tbody>\n",
       "    <tr>\n",
       "      <th>count</th>\n",
       "      <td>6.362620e+06</td>\n",
       "      <td>6.362620e+06</td>\n",
       "      <td>6.362620e+06</td>\n",
       "      <td>6.362620e+06</td>\n",
       "      <td>6.362620e+06</td>\n",
       "      <td>6.362620e+06</td>\n",
       "      <td>6.362620e+06</td>\n",
       "      <td>6.362620e+06</td>\n",
       "    </tr>\n",
       "    <tr>\n",
       "      <th>mean</th>\n",
       "      <td>2.433972e+02</td>\n",
       "      <td>1.798619e+05</td>\n",
       "      <td>8.338831e+05</td>\n",
       "      <td>8.551137e+05</td>\n",
       "      <td>1.100702e+06</td>\n",
       "      <td>1.224996e+06</td>\n",
       "      <td>1.290820e-03</td>\n",
       "      <td>2.514687e-06</td>\n",
       "    </tr>\n",
       "    <tr>\n",
       "      <th>std</th>\n",
       "      <td>1.423320e+02</td>\n",
       "      <td>6.038582e+05</td>\n",
       "      <td>2.888243e+06</td>\n",
       "      <td>2.924049e+06</td>\n",
       "      <td>3.399180e+06</td>\n",
       "      <td>3.674129e+06</td>\n",
       "      <td>3.590480e-02</td>\n",
       "      <td>1.585775e-03</td>\n",
       "    </tr>\n",
       "    <tr>\n",
       "      <th>min</th>\n",
       "      <td>1.000000e+00</td>\n",
       "      <td>0.000000e+00</td>\n",
       "      <td>0.000000e+00</td>\n",
       "      <td>0.000000e+00</td>\n",
       "      <td>0.000000e+00</td>\n",
       "      <td>0.000000e+00</td>\n",
       "      <td>0.000000e+00</td>\n",
       "      <td>0.000000e+00</td>\n",
       "    </tr>\n",
       "    <tr>\n",
       "      <th>25%</th>\n",
       "      <td>1.560000e+02</td>\n",
       "      <td>1.338957e+04</td>\n",
       "      <td>0.000000e+00</td>\n",
       "      <td>0.000000e+00</td>\n",
       "      <td>0.000000e+00</td>\n",
       "      <td>0.000000e+00</td>\n",
       "      <td>0.000000e+00</td>\n",
       "      <td>0.000000e+00</td>\n",
       "    </tr>\n",
       "    <tr>\n",
       "      <th>50%</th>\n",
       "      <td>2.390000e+02</td>\n",
       "      <td>7.487194e+04</td>\n",
       "      <td>1.420800e+04</td>\n",
       "      <td>0.000000e+00</td>\n",
       "      <td>1.327057e+05</td>\n",
       "      <td>2.146614e+05</td>\n",
       "      <td>0.000000e+00</td>\n",
       "      <td>0.000000e+00</td>\n",
       "    </tr>\n",
       "    <tr>\n",
       "      <th>75%</th>\n",
       "      <td>3.350000e+02</td>\n",
       "      <td>2.087215e+05</td>\n",
       "      <td>1.073152e+05</td>\n",
       "      <td>1.442584e+05</td>\n",
       "      <td>9.430367e+05</td>\n",
       "      <td>1.111909e+06</td>\n",
       "      <td>0.000000e+00</td>\n",
       "      <td>0.000000e+00</td>\n",
       "    </tr>\n",
       "    <tr>\n",
       "      <th>max</th>\n",
       "      <td>7.430000e+02</td>\n",
       "      <td>9.244552e+07</td>\n",
       "      <td>5.958504e+07</td>\n",
       "      <td>4.958504e+07</td>\n",
       "      <td>3.560159e+08</td>\n",
       "      <td>3.561793e+08</td>\n",
       "      <td>1.000000e+00</td>\n",
       "      <td>1.000000e+00</td>\n",
       "    </tr>\n",
       "  </tbody>\n",
       "</table>\n",
       "</div>"
      ],
      "text/plain": [
       "               step        amount  oldbalanceOrg  newbalanceOrig  \\\n",
       "count  6.362620e+06  6.362620e+06   6.362620e+06    6.362620e+06   \n",
       "mean   2.433972e+02  1.798619e+05   8.338831e+05    8.551137e+05   \n",
       "std    1.423320e+02  6.038582e+05   2.888243e+06    2.924049e+06   \n",
       "min    1.000000e+00  0.000000e+00   0.000000e+00    0.000000e+00   \n",
       "25%    1.560000e+02  1.338957e+04   0.000000e+00    0.000000e+00   \n",
       "50%    2.390000e+02  7.487194e+04   1.420800e+04    0.000000e+00   \n",
       "75%    3.350000e+02  2.087215e+05   1.073152e+05    1.442584e+05   \n",
       "max    7.430000e+02  9.244552e+07   5.958504e+07    4.958504e+07   \n",
       "\n",
       "       oldbalanceDest  newbalanceDest       isFraud  isFlaggedFraud  \n",
       "count    6.362620e+06    6.362620e+06  6.362620e+06    6.362620e+06  \n",
       "mean     1.100702e+06    1.224996e+06  1.290820e-03    2.514687e-06  \n",
       "std      3.399180e+06    3.674129e+06  3.590480e-02    1.585775e-03  \n",
       "min      0.000000e+00    0.000000e+00  0.000000e+00    0.000000e+00  \n",
       "25%      0.000000e+00    0.000000e+00  0.000000e+00    0.000000e+00  \n",
       "50%      1.327057e+05    2.146614e+05  0.000000e+00    0.000000e+00  \n",
       "75%      9.430367e+05    1.111909e+06  0.000000e+00    0.000000e+00  \n",
       "max      3.560159e+08    3.561793e+08  1.000000e+00    1.000000e+00  "
      ]
     },
     "execution_count": 3,
     "metadata": {},
     "output_type": "execute_result"
    }
   ],
   "source": [
    "fraud.describe()"
   ]
  },
  {
   "cell_type": "markdown",
   "metadata": {},
   "source": [
    "# Explore"
   ]
  },
  {
   "cell_type": "markdown",
   "metadata": {},
   "source": [
    "Check for missing values in data set"
   ]
  },
  {
   "cell_type": "code",
   "execution_count": 4,
   "metadata": {},
   "outputs": [
    {
     "name": "stdout",
     "output_type": "stream",
     "text": [
      "step              0\n",
      "type              0\n",
      "amount            0\n",
      "nameOrig          0\n",
      "oldbalanceOrg     0\n",
      "newbalanceOrig    0\n",
      "nameDest          0\n",
      "oldbalanceDest    0\n",
      "newbalanceDest    0\n",
      "isFraud           0\n",
      "isFlaggedFraud    0\n",
      "dtype: int64\n",
      "0\n"
     ]
    }
   ],
   "source": [
    "print(fraud.isna().sum())\n",
    "print(fraud.isnull().any().sum())"
   ]
  },
  {
   "cell_type": "markdown",
   "metadata": {},
   "source": [
    "No null and no NaN values in set"
   ]
  },
  {
   "cell_type": "code",
   "execution_count": 5,
   "metadata": {},
   "outputs": [
    {
     "data": {
      "text/plain": [
       "step              6362620\n",
       "type              6362620\n",
       "amount            6362620\n",
       "nameOrig          6362620\n",
       "oldbalanceOrg     6362620\n",
       "newbalanceOrig    6362620\n",
       "nameDest          6362620\n",
       "oldbalanceDest    6362620\n",
       "newbalanceDest    6362620\n",
       "isFraud           6362620\n",
       "isFlaggedFraud    6362620\n",
       "dtype: int64"
      ]
     },
     "execution_count": 5,
     "metadata": {},
     "output_type": "execute_result"
    }
   ],
   "source": [
    "fraud.count()"
   ]
  },
  {
   "cell_type": "markdown",
   "metadata": {},
   "source": [
    "Check basic summary stats"
   ]
  },
  {
   "cell_type": "code",
   "execution_count": 6,
   "metadata": {},
   "outputs": [
    {
     "data": {
      "text/html": [
       "<div>\n",
       "<style scoped>\n",
       "    .dataframe tbody tr th:only-of-type {\n",
       "        vertical-align: middle;\n",
       "    }\n",
       "\n",
       "    .dataframe tbody tr th {\n",
       "        vertical-align: top;\n",
       "    }\n",
       "\n",
       "    .dataframe thead th {\n",
       "        text-align: right;\n",
       "    }\n",
       "</style>\n",
       "<table border=\"1\" class=\"dataframe\">\n",
       "  <thead>\n",
       "    <tr style=\"text-align: right;\">\n",
       "      <th></th>\n",
       "      <th>step</th>\n",
       "      <th>amount</th>\n",
       "      <th>oldbalanceOrg</th>\n",
       "      <th>newbalanceOrig</th>\n",
       "      <th>oldbalanceDest</th>\n",
       "      <th>newbalanceDest</th>\n",
       "      <th>isFraud</th>\n",
       "      <th>isFlaggedFraud</th>\n",
       "    </tr>\n",
       "  </thead>\n",
       "  <tbody>\n",
       "    <tr>\n",
       "      <th>count</th>\n",
       "      <td>6.362620e+06</td>\n",
       "      <td>6.362620e+06</td>\n",
       "      <td>6.362620e+06</td>\n",
       "      <td>6.362620e+06</td>\n",
       "      <td>6.362620e+06</td>\n",
       "      <td>6.362620e+06</td>\n",
       "      <td>6.362620e+06</td>\n",
       "      <td>6.362620e+06</td>\n",
       "    </tr>\n",
       "    <tr>\n",
       "      <th>mean</th>\n",
       "      <td>2.433972e+02</td>\n",
       "      <td>1.798619e+05</td>\n",
       "      <td>8.338831e+05</td>\n",
       "      <td>8.551137e+05</td>\n",
       "      <td>1.100702e+06</td>\n",
       "      <td>1.224996e+06</td>\n",
       "      <td>1.290820e-03</td>\n",
       "      <td>2.514687e-06</td>\n",
       "    </tr>\n",
       "    <tr>\n",
       "      <th>std</th>\n",
       "      <td>1.423320e+02</td>\n",
       "      <td>6.038582e+05</td>\n",
       "      <td>2.888243e+06</td>\n",
       "      <td>2.924049e+06</td>\n",
       "      <td>3.399180e+06</td>\n",
       "      <td>3.674129e+06</td>\n",
       "      <td>3.590480e-02</td>\n",
       "      <td>1.585775e-03</td>\n",
       "    </tr>\n",
       "    <tr>\n",
       "      <th>min</th>\n",
       "      <td>1.000000e+00</td>\n",
       "      <td>0.000000e+00</td>\n",
       "      <td>0.000000e+00</td>\n",
       "      <td>0.000000e+00</td>\n",
       "      <td>0.000000e+00</td>\n",
       "      <td>0.000000e+00</td>\n",
       "      <td>0.000000e+00</td>\n",
       "      <td>0.000000e+00</td>\n",
       "    </tr>\n",
       "    <tr>\n",
       "      <th>25%</th>\n",
       "      <td>1.560000e+02</td>\n",
       "      <td>1.338957e+04</td>\n",
       "      <td>0.000000e+00</td>\n",
       "      <td>0.000000e+00</td>\n",
       "      <td>0.000000e+00</td>\n",
       "      <td>0.000000e+00</td>\n",
       "      <td>0.000000e+00</td>\n",
       "      <td>0.000000e+00</td>\n",
       "    </tr>\n",
       "    <tr>\n",
       "      <th>50%</th>\n",
       "      <td>2.390000e+02</td>\n",
       "      <td>7.487194e+04</td>\n",
       "      <td>1.420800e+04</td>\n",
       "      <td>0.000000e+00</td>\n",
       "      <td>1.327057e+05</td>\n",
       "      <td>2.146614e+05</td>\n",
       "      <td>0.000000e+00</td>\n",
       "      <td>0.000000e+00</td>\n",
       "    </tr>\n",
       "    <tr>\n",
       "      <th>75%</th>\n",
       "      <td>3.350000e+02</td>\n",
       "      <td>2.087215e+05</td>\n",
       "      <td>1.073152e+05</td>\n",
       "      <td>1.442584e+05</td>\n",
       "      <td>9.430367e+05</td>\n",
       "      <td>1.111909e+06</td>\n",
       "      <td>0.000000e+00</td>\n",
       "      <td>0.000000e+00</td>\n",
       "    </tr>\n",
       "    <tr>\n",
       "      <th>max</th>\n",
       "      <td>7.430000e+02</td>\n",
       "      <td>9.244552e+07</td>\n",
       "      <td>5.958504e+07</td>\n",
       "      <td>4.958504e+07</td>\n",
       "      <td>3.560159e+08</td>\n",
       "      <td>3.561793e+08</td>\n",
       "      <td>1.000000e+00</td>\n",
       "      <td>1.000000e+00</td>\n",
       "    </tr>\n",
       "  </tbody>\n",
       "</table>\n",
       "</div>"
      ],
      "text/plain": [
       "               step        amount  oldbalanceOrg  newbalanceOrig  \\\n",
       "count  6.362620e+06  6.362620e+06   6.362620e+06    6.362620e+06   \n",
       "mean   2.433972e+02  1.798619e+05   8.338831e+05    8.551137e+05   \n",
       "std    1.423320e+02  6.038582e+05   2.888243e+06    2.924049e+06   \n",
       "min    1.000000e+00  0.000000e+00   0.000000e+00    0.000000e+00   \n",
       "25%    1.560000e+02  1.338957e+04   0.000000e+00    0.000000e+00   \n",
       "50%    2.390000e+02  7.487194e+04   1.420800e+04    0.000000e+00   \n",
       "75%    3.350000e+02  2.087215e+05   1.073152e+05    1.442584e+05   \n",
       "max    7.430000e+02  9.244552e+07   5.958504e+07    4.958504e+07   \n",
       "\n",
       "       oldbalanceDest  newbalanceDest       isFraud  isFlaggedFraud  \n",
       "count    6.362620e+06    6.362620e+06  6.362620e+06    6.362620e+06  \n",
       "mean     1.100702e+06    1.224996e+06  1.290820e-03    2.514687e-06  \n",
       "std      3.399180e+06    3.674129e+06  3.590480e-02    1.585775e-03  \n",
       "min      0.000000e+00    0.000000e+00  0.000000e+00    0.000000e+00  \n",
       "25%      0.000000e+00    0.000000e+00  0.000000e+00    0.000000e+00  \n",
       "50%      1.327057e+05    2.146614e+05  0.000000e+00    0.000000e+00  \n",
       "75%      9.430367e+05    1.111909e+06  0.000000e+00    0.000000e+00  \n",
       "max      3.560159e+08    3.561793e+08  1.000000e+00    1.000000e+00  "
      ]
     },
     "execution_count": 6,
     "metadata": {},
     "output_type": "execute_result"
    }
   ],
   "source": [
    "fraud.describe()"
   ]
  },
  {
   "cell_type": "code",
   "execution_count": 7,
   "metadata": {},
   "outputs": [
    {
     "name": "stdout",
     "output_type": "stream",
     "text": [
      "step                                                           8601\n",
      "type              TRANSFERTRANSFERTRANSFERTRANSFERTRANSFERTRANSF...\n",
      "amount                                                  7.77856e+07\n",
      "nameOrig          C728984460C1100582606C1035541766C908544136C689...\n",
      "oldbalanceOrg                                           1.25086e+08\n",
      "newbalanceOrig                                          1.25086e+08\n",
      "nameDest          C639921569C1147517658C1100697970C891140444C139...\n",
      "oldbalanceDest                                                    0\n",
      "newbalanceDest                                                    0\n",
      "isFraud                                                          16\n",
      "isFlaggedFraud                                                   16\n",
      "dtype: object\n",
      "         step      type       amount     nameOrig  oldbalanceOrg  \\\n",
      "2736446   212  TRANSFER   4953893.08   C728984460     4953893.08   \n",
      "3247297   250  TRANSFER   1343002.08  C1100582606     1343002.08   \n",
      "3760288   279  TRANSFER    536624.41  C1035541766      536624.41   \n",
      "5563713   387  TRANSFER   4892193.09   C908544136     4892193.09   \n",
      "5996407   425  TRANSFER  10000000.00   C689608084    19585040.37   \n",
      "5996409   425  TRANSFER   9585040.37   C452586515    19585040.37   \n",
      "6168499   554  TRANSFER   3576297.10   C193696150     3576297.10   \n",
      "6205439   586  TRANSFER    353874.22  C1684585475      353874.22   \n",
      "6266413   617  TRANSFER   2542664.27   C786455622     2542664.27   \n",
      "6281482   646  TRANSFER  10000000.00    C19004745    10399045.08   \n",
      "6281484   646  TRANSFER    399045.08   C724693370    10399045.08   \n",
      "6296014   671  TRANSFER   3441041.46   C917414431     3441041.46   \n",
      "6351225   702  TRANSFER   3171085.59  C1892216157     3171085.59   \n",
      "6362460   730  TRANSFER  10000000.00  C2140038573    17316255.05   \n",
      "6362462   730  TRANSFER   7316255.05  C1869569059    17316255.05   \n",
      "6362584   741  TRANSFER   5674547.89   C992223106     5674547.89   \n",
      "\n",
      "         newbalanceOrig     nameDest  oldbalanceDest  newbalanceDest  isFraud  \\\n",
      "2736446      4953893.08   C639921569             0.0             0.0        1   \n",
      "3247297      1343002.08  C1147517658             0.0             0.0        1   \n",
      "3760288       536624.41  C1100697970             0.0             0.0        1   \n",
      "5563713      4892193.09   C891140444             0.0             0.0        1   \n",
      "5996407     19585040.37  C1392803603             0.0             0.0        1   \n",
      "5996409     19585040.37  C1109166882             0.0             0.0        1   \n",
      "6168499      3576297.10   C484597480             0.0             0.0        1   \n",
      "6205439       353874.22  C1770418982             0.0             0.0        1   \n",
      "6266413      2542664.27   C661958277             0.0             0.0        1   \n",
      "6281482     10399045.08  C1806199534             0.0             0.0        1   \n",
      "6281484     10399045.08  C1909486199             0.0             0.0        1   \n",
      "6296014      3441041.46  C1082139865             0.0             0.0        1   \n",
      "6351225      3171085.59  C1308068787             0.0             0.0        1   \n",
      "6362460     17316255.05  C1395467927             0.0             0.0        1   \n",
      "6362462     17316255.05  C1861208726             0.0             0.0        1   \n",
      "6362584      5674547.89  C1366804249             0.0             0.0        1   \n",
      "\n",
      "         isFlaggedFraud  \n",
      "2736446               1  \n",
      "3247297               1  \n",
      "3760288               1  \n",
      "5563713               1  \n",
      "5996407               1  \n",
      "5996409               1  \n",
      "6168499               1  \n",
      "6205439               1  \n",
      "6266413               1  \n",
      "6281482               1  \n",
      "6281484               1  \n",
      "6296014               1  \n",
      "6351225               1  \n",
      "6362460               1  \n",
      "6362462               1  \n",
      "6362584               1  \n"
     ]
    }
   ],
   "source": [
    "pd.set_option('display.max_rows', None)\n",
    "correct_flag = fraud.loc[(fraud['isFraud']==1) & (fraud['isFlaggedFraud']==1)]\n",
    "print(correct_flag.sum())\n",
    "print(correct_flag)"
   ]
  },
  {
   "cell_type": "code",
   "execution_count": 8,
   "metadata": {},
   "outputs": [
    {
     "name": "stdout",
     "output_type": "stream",
     "text": [
      "step                                                           8601\n",
      "type              TRANSFERTRANSFERTRANSFERTRANSFERTRANSFERTRANSF...\n",
      "amount                                                  7.77856e+07\n",
      "nameOrig          C728984460C1100582606C1035541766C908544136C689...\n",
      "oldbalanceOrg                                           1.25086e+08\n",
      "newbalanceOrig                                          1.25086e+08\n",
      "nameDest          C639921569C1147517658C1100697970C891140444C139...\n",
      "oldbalanceDest                                                    0\n",
      "newbalanceDest                                                    0\n",
      "isFraud                                                          16\n",
      "isFlaggedFraud                                                   16\n",
      "dtype: object\n",
      "         step      type       amount     nameOrig  oldbalanceOrg  \\\n",
      "2736446   212  TRANSFER   4953893.08   C728984460     4953893.08   \n",
      "3247297   250  TRANSFER   1343002.08  C1100582606     1343002.08   \n",
      "3760288   279  TRANSFER    536624.41  C1035541766      536624.41   \n",
      "5563713   387  TRANSFER   4892193.09   C908544136     4892193.09   \n",
      "5996407   425  TRANSFER  10000000.00   C689608084    19585040.37   \n",
      "5996409   425  TRANSFER   9585040.37   C452586515    19585040.37   \n",
      "6168499   554  TRANSFER   3576297.10   C193696150     3576297.10   \n",
      "6205439   586  TRANSFER    353874.22  C1684585475      353874.22   \n",
      "6266413   617  TRANSFER   2542664.27   C786455622     2542664.27   \n",
      "6281482   646  TRANSFER  10000000.00    C19004745    10399045.08   \n",
      "6281484   646  TRANSFER    399045.08   C724693370    10399045.08   \n",
      "6296014   671  TRANSFER   3441041.46   C917414431     3441041.46   \n",
      "6351225   702  TRANSFER   3171085.59  C1892216157     3171085.59   \n",
      "6362460   730  TRANSFER  10000000.00  C2140038573    17316255.05   \n",
      "6362462   730  TRANSFER   7316255.05  C1869569059    17316255.05   \n",
      "6362584   741  TRANSFER   5674547.89   C992223106     5674547.89   \n",
      "\n",
      "         newbalanceOrig     nameDest  oldbalanceDest  newbalanceDest  isFraud  \\\n",
      "2736446      4953893.08   C639921569             0.0             0.0        1   \n",
      "3247297      1343002.08  C1147517658             0.0             0.0        1   \n",
      "3760288       536624.41  C1100697970             0.0             0.0        1   \n",
      "5563713      4892193.09   C891140444             0.0             0.0        1   \n",
      "5996407     19585040.37  C1392803603             0.0             0.0        1   \n",
      "5996409     19585040.37  C1109166882             0.0             0.0        1   \n",
      "6168499      3576297.10   C484597480             0.0             0.0        1   \n",
      "6205439       353874.22  C1770418982             0.0             0.0        1   \n",
      "6266413      2542664.27   C661958277             0.0             0.0        1   \n",
      "6281482     10399045.08  C1806199534             0.0             0.0        1   \n",
      "6281484     10399045.08  C1909486199             0.0             0.0        1   \n",
      "6296014      3441041.46  C1082139865             0.0             0.0        1   \n",
      "6351225      3171085.59  C1308068787             0.0             0.0        1   \n",
      "6362460     17316255.05  C1395467927             0.0             0.0        1   \n",
      "6362462     17316255.05  C1861208726             0.0             0.0        1   \n",
      "6362584      5674547.89  C1366804249             0.0             0.0        1   \n",
      "\n",
      "         isFlaggedFraud  \n",
      "2736446               1  \n",
      "3247297               1  \n",
      "3760288               1  \n",
      "5563713               1  \n",
      "5996407               1  \n",
      "5996409               1  \n",
      "6168499               1  \n",
      "6205439               1  \n",
      "6266413               1  \n",
      "6281482               1  \n",
      "6281484               1  \n",
      "6296014               1  \n",
      "6351225               1  \n",
      "6362460               1  \n",
      "6362462               1  \n",
      "6362584               1  \n"
     ]
    }
   ],
   "source": [
    "pd.set_option('display.max_rows', None)\n",
    "flags = fraud.loc[(fraud['isFlaggedFraud']==1)]\n",
    "print(flags.sum())\n",
    "print(flags)"
   ]
  },
  {
   "cell_type": "markdown",
   "metadata": {},
   "source": [
    "# Visualize"
   ]
  },
  {
   "cell_type": "code",
   "execution_count": 9,
   "metadata": {},
   "outputs": [],
   "source": [
    "## Imports\n",
    "import matplotlib.pyplot as plt\n",
    "import matplotlib.mlab as mlab\n",
    "import seaborn as sns\n",
    "%matplotlib inline\n",
    "%config InlineBackend.figure_format = 'retina'"
   ]
  },
  {
   "cell_type": "code",
   "execution_count": 10,
   "metadata": {},
   "outputs": [
    {
     "data": {
      "image/png": "[encoded data removed]",
      "text/plain": [
       "<Figure size 432x288 with 1 Axes>"
      ]
     },
     "metadata": {
      "image/png": {
       "height": 263,
       "width": 414
      },
      "needs_background": "light"
     },
     "output_type": "display_data"
    }
   ],
   "source": [
    "LABELS = [\"Legitimate\", \"Fraud\"]\n",
    "count_classes = pd.value_counts(fraud['isFraud'], sort = True)\n",
    "count_classes.plot(kind = 'bar', rot=0)\n",
    "plt.title(\"Legitimate vs Fraud Transactions\")\n",
    "plt.xticks(range(2), LABELS)\n",
    "# plt.xlabel(\"\")\n",
    "plt.ylabel(\"Frequency\");\n"
   ]
  },
  {
   "cell_type": "code",
   "execution_count": 11,
   "metadata": {},
   "outputs": [
    {
     "name": "stdout",
     "output_type": "stream",
     "text": [
      "Number of actual fraud cases: 8213\n",
      "Number of transactions flagged as fraud: 16\n",
      "only 0.2% of trasactions are being caught\n"
     ]
    }
   ],
   "source": [
    "# print(f\"Number of transactions analyzed: {fraud[]})\n",
    "print(f\"Number of actual fraud cases: {fraud['isFraud'].sum()}\")\n",
    "print(f\"Number of transactions flagged as fraud: {fraud['isFlaggedFraud'].sum()}\")\n",
    "print(f\"only {round((fraud['isFlaggedFraud'].sum())/(fraud['isFraud'].sum()),3)*100}% of trasactions are being caught\")"
   ]
  },
  {
   "cell_type": "code",
   "execution_count": 12,
   "metadata": {},
   "outputs": [],
   "source": [
    "# frauds = fraud[fraud.isFraud == 1]\n",
    "# legitimate = fraud[fraud.isFraud == 0]"
   ]
  },
  {
   "cell_type": "code",
   "execution_count": 13,
   "metadata": {},
   "outputs": [],
   "source": [
    "fraud_amt = fraud.loc[(fraud['isFraud'] == 1) & \n",
    "                         (fraud['amount'])]\n",
    "frauds = fraud.loc[(fraud['isFraud'] == 1)]\n",
    "legit = fraud.loc[(fraud['isFraud']== 0)]"
   ]
  },
  {
   "cell_type": "code",
   "execution_count": 14,
   "metadata": {},
   "outputs": [
    {
     "data": {
      "text/plain": [
       "count    8.197000e+03\n",
       "mean     1.470833e+06\n",
       "std      2.405723e+06\n",
       "min      6.380000e+01\n",
       "25%      1.275643e+05\n",
       "50%      4.422902e+05\n",
       "75%      1.525742e+06\n",
       "max      1.000000e+07\n",
       "Name: amount, dtype: float64"
      ]
     },
     "execution_count": 14,
     "metadata": {},
     "output_type": "execute_result"
    }
   ],
   "source": [
    "fraud_amt['amount'].describe()"
   ]
  },
  {
   "cell_type": "markdown",
   "metadata": {},
   "source": [
    "## Distribution of fraud amounts"
   ]
  },
  {
   "cell_type": "code",
   "execution_count": 15,
   "metadata": {},
   "outputs": [
    {
     "name": "stdout",
     "output_type": "stream",
     "text": [
      "Toal amount lost to fraud: $12056415427.84\n",
      "Total cases: 8213\n",
      "total legit trans: 6354407\n"
     ]
    }
   ],
   "source": [
    "total_lost = round(fraud_amt['amount'].sum(),2)\n",
    "total_cases = frauds['isFraud'].sum()\n",
    "total_legit = fraud.step.count()-total_cases\n",
    "print(f\"Toal amount lost to fraud: ${total_lost}\")\n",
    "print(f\"Total cases: {total_cases}\")\n",
    "print(f\"total legit trans: {total_legit}\")"
   ]
  },
  {
   "cell_type": "code",
   "execution_count": 16,
   "metadata": {},
   "outputs": [
    {
     "data": {
      "text/plain": [
       "(array([3924., 1172.,  688.,  436.,  297.,  260.,  177.,  129.,  116.,\n",
       "          88.,   66.,   72.,   60.,   48.,   45.,   50.,   42.,   34.,\n",
       "          51.,   30.,   28.,   24.,   30.,   23.,  307.]),\n",
       " array([6.38000000e+01, 4.00061248e+05, 8.00058696e+05, 1.20005614e+06,\n",
       "        1.60005359e+06, 2.00005104e+06, 2.40004849e+06, 2.80004594e+06,\n",
       "        3.20004338e+06, 3.60004083e+06, 4.00003828e+06, 4.40003573e+06,\n",
       "        4.80003318e+06, 5.20003062e+06, 5.60002807e+06, 6.00002552e+06,\n",
       "        6.40002297e+06, 6.80002042e+06, 7.20001786e+06, 7.60001531e+06,\n",
       "        8.00001276e+06, 8.40001021e+06, 8.80000766e+06, 9.20000510e+06,\n",
       "        9.60000255e+06, 1.00000000e+07]),\n",
       " <a list of 25 Patch objects>)"
      ]
     },
     "execution_count": 16,
     "metadata": {},
     "output_type": "execute_result"
    },
    {
     "data": {
      "image/png": "[encoded data removed]",
      "text/plain": [
       "<Figure size 864x576 with 1 Axes>"
      ]
     },
     "metadata": {
      "image/png": {
       "height": 478,
       "width": 716
      },
      "needs_background": "light"
     },
     "output_type": "display_data"
    }
   ],
   "source": [
    "fig=plt.figure(figsize=(12,8))\n",
    "plt.hist(fraud_amt['amount'],bins=25, alpha=0.3)"
   ]
  },
  {
   "cell_type": "markdown",
   "metadata": {},
   "source": [
    "The majority of fraud is occuring in the amounts between 0 and 2 million.  Need to examine that range.  However, the spike at the far right end indicates that while still small in frequency by comparison, The amount of money lost in that bin is significant."
   ]
  },
  {
   "cell_type": "markdown",
   "metadata": {},
   "source": [
    "#### Greater than 8mil"
   ]
  },
  {
   "cell_type": "code",
   "execution_count": 17,
   "metadata": {},
   "outputs": [
    {
     "name": "stdout",
     "output_type": "stream",
     "text": [
      "Total money lost in this range: 3988961407.97\n",
      "Proportion to total cases: 5.02%\n",
      "proportion to total($): 33.09%\n"
     ]
    },
    {
     "data": {
      "image/png": "[encoded data removed]",
      "text/plain": [
       "<Figure size 864x576 with 1 Axes>"
      ]
     },
     "metadata": {
      "image/png": {
       "height": 478,
       "width": 710
      },
      "needs_background": "light"
     },
     "output_type": "display_data"
    }
   ],
   "source": [
    "fig=plt.figure(figsize=(12,8))\n",
    "majority_amt7 = fraud_amt.loc[(fraud_amt['amount'] > 8000000)] \n",
    "plt.hist(majority_amt7['amount'])\n",
    "money_lost = majority_amt7['amount'].sum()\n",
    "cases1 = majority_amt7['isFraud'].sum()*100\n",
    "proportion_cases = round((cases1/total_cases),2)\n",
    "proportion = round((money_lost/total_lost*100),2) \n",
    "print(f\"Total money lost in this range: {money_lost}\")\n",
    "print(f\"Proportion to total cases: {proportion_cases}%\")\n",
    "print(f\"proportion to total($): {proportion}%\")"
   ]
  },
  {
   "cell_type": "code",
   "execution_count": 18,
   "metadata": {},
   "outputs": [
    {
     "data": {
      "text/plain": [
       "{'whiskers': [<matplotlib.lines.Line2D at 0x7f71534b5280>,\n",
       "  <matplotlib.lines.Line2D at 0x7f71534b55e0>],\n",
       " 'caps': [<matplotlib.lines.Line2D at 0x7f71534b5880>,\n",
       "  <matplotlib.lines.Line2D at 0x7f71534b5bb0>],\n",
       " 'boxes': [<matplotlib.lines.Line2D at 0x7f71534b5250>],\n",
       " 'medians': [<matplotlib.lines.Line2D at 0x7f7153445250>],\n",
       " 'fliers': [<matplotlib.lines.Line2D at 0x7f71534b51f0>],\n",
       " 'means': []}"
      ]
     },
     "execution_count": 18,
     "metadata": {},
     "output_type": "execute_result"
    },
    {
     "data": {
      "text/plain": [
       "<Figure size 864x576 with 0 Axes>"
      ]
     },
     "metadata": {},
     "output_type": "display_data"
    },
    {
     "data": {
      "image/png": "[encoded data removed]",
      "text/plain": [
       "<Figure size 432x288 with 1 Axes>"
      ]
     },
     "metadata": {
      "image/png": {
       "height": 263,
       "width": 384
      },
      "needs_background": "light"
     },
     "output_type": "display_data"
    }
   ],
   "source": [
    "fig=plt.figure(figsize=(12,8))\n",
    "fig1, ax1 = plt.subplots()\n",
    "ax1.set_title('Basic Plot')\n",
    "ax1.boxplot(majority_amt7['amount'])"
   ]
  },
  {
   "cell_type": "markdown",
   "metadata": {},
   "source": [
    "#### Less than 2mil"
   ]
  },
  {
   "cell_type": "code",
   "execution_count": 19,
   "metadata": {},
   "outputs": [
    {
     "name": "stdout",
     "output_type": "stream",
     "text": [
      "Total money lost in this range: 3054292829.18\n",
      "Proportion to total cases: 79.35%\n",
      "proportion to total($): 25.33%\n"
     ]
    },
    {
     "data": {
      "image/png": "[encoded data removed]",
      "text/plain": [
       "<Figure size 864x576 with 1 Axes>"
      ]
     },
     "metadata": {
      "image/png": {
       "height": 465,
       "width": 716
      },
      "needs_background": "light"
     },
     "output_type": "display_data"
    }
   ],
   "source": [
    "fig=plt.figure(figsize=(12,8))\n",
    "majority_amt = fraud_amt.loc[(fraud_amt['amount'] < 2000000)] \n",
    "plt.hist(majority_amt['amount'])\n",
    "money_lost = majority_amt['amount'].sum()\n",
    "cases2 = majority_amt['isFraud'].sum()*100\n",
    "proportion_cases = round((cases2/total_cases),2)\n",
    "proportion = round((money_lost/total_lost*100),2) \n",
    "print(f\"Total money lost in this range: {money_lost}\")\n",
    "print(f\"Proportion to total cases: {proportion_cases}%\")\n",
    "print(f\"proportion to total($): {proportion}%\")"
   ]
  },
  {
   "cell_type": "code",
   "execution_count": null,
   "metadata": {},
   "outputs": [],
   "source": []
  },
  {
   "cell_type": "markdown",
   "metadata": {},
   "source": [
    "#### Less than 500000"
   ]
  },
  {
   "cell_type": "code",
   "execution_count": 20,
   "metadata": {},
   "outputs": [
    {
     "name": "stdout",
     "output_type": "stream",
     "text": [
      "Total money lost in this range: 754389939.72\n",
      "Proportion to total cases: 52.76%\n",
      "proportion to total($): 6.26%\n"
     ]
    },
    {
     "data": {
      "image/png": "[encoded data removed]",
      "text/plain": [
       "<Figure size 864x576 with 1 Axes>"
      ]
     },
     "metadata": {
      "image/png": {
       "height": 465,
       "width": 716
      },
      "needs_background": "light"
     },
     "output_type": "display_data"
    }
   ],
   "source": [
    "fig=plt.figure(figsize=(12,8))\n",
    "majority_amt2 = fraud_amt.loc[(fraud_amt['amount'] < 500000)] \n",
    "plt.hist(majority_amt2['amount'])\n",
    "money_lost = majority_amt2['amount'].sum()\n",
    "cases3 = majority_amt2['isFraud'].sum()*100\n",
    "proportion_cases = round((cases3/total_cases),2)\n",
    "proportion = round((money_lost/total_lost*100),2) \n",
    "print(f\"Total money lost in this range: {money_lost}\")\n",
    "print(f\"Proportion to total cases: {proportion_cases}%\")\n",
    "print(f\"proportion to total($): {proportion}%\")"
   ]
  },
  {
   "cell_type": "markdown",
   "metadata": {},
   "source": [
    "#### Less than 200000"
   ]
  },
  {
   "cell_type": "code",
   "execution_count": 21,
   "metadata": {},
   "outputs": [
    {
     "name": "stdout",
     "output_type": "stream",
     "text": [
      "Total money lost in this range: 73020052.09\n",
      "Proportion to total cases: 20.59%\n",
      "proportion to total($): 0.61%\n"
     ]
    },
    {
     "data": {
      "image/png": "[encoded data removed]",
      "text/plain": [
       "<Figure size 864x576 with 1 Axes>"
      ]
     },
     "metadata": {
      "image/png": {
       "height": 465,
       "width": 710
      },
      "needs_background": "light"
     },
     "output_type": "display_data"
    }
   ],
   "source": [
    "fig=plt.figure(figsize=(12,8))\n",
    "majority_amt3 = fraud_amt.loc[(fraud_amt['amount'] < 100000)] \n",
    "plt.hist(majority_amt3['amount'])\n",
    "money_lost = majority_amt3['amount'].sum()\n",
    "cases3 = majority_amt3['isFraud'].sum()*100\n",
    "proportion_cases = round((cases3/total_cases),2)\n",
    "proportion = round((money_lost/total_lost*100),2) \n",
    "print(f\"Total money lost in this range: {money_lost}\")\n",
    "print(f\"Proportion to total cases: {proportion_cases}%\")\n",
    "print(f\"proportion to total($): {proportion}%\")"
   ]
  },
  {
   "cell_type": "markdown",
   "metadata": {},
   "source": [
    "#### Less than 20k"
   ]
  },
  {
   "cell_type": "code",
   "execution_count": 22,
   "metadata": {},
   "outputs": [],
   "source": [
    "# majority_amt4 = fraud_amt.loc[(fraud_amt['amount'] < 20000)] \n",
    "# plt.hist(majority_amt4['amount'])\n",
    "# money_lost = majority_amt4['amount'].sum()\n",
    "# proportion = round((money_lost/total_lost*100),2) \n",
    "# print(f\"Total money lost in this range: {money_lost}\")\n",
    "# print(f\"proportion to total: {proportion}%\")"
   ]
  },
  {
   "cell_type": "markdown",
   "metadata": {},
   "source": [
    "#### less than 5k"
   ]
  },
  {
   "cell_type": "code",
   "execution_count": 23,
   "metadata": {},
   "outputs": [],
   "source": [
    "# majority_amt5 = fraud_amt.loc[(fraud_amt['amount'] < 5000)] \n",
    "# plt.hist(majority_amt5['amount'])\n",
    "# money_lost = majority_amt5['amount'].sum()\n",
    "# proportion = round((money_lost/total_lost*100),2) \n",
    "# print(f\"Total money lost in this range: {money_lost}\")\n",
    "# print(f\"proportion to total: {proportion}%\")"
   ]
  },
  {
   "cell_type": "markdown",
   "metadata": {},
   "source": [
    "#### Less than 1k"
   ]
  },
  {
   "cell_type": "code",
   "execution_count": 24,
   "metadata": {},
   "outputs": [],
   "source": [
    "# majority_amt6 = fraud_amt.loc[(fraud_amt['amount'] < 1000)] \n",
    "# plt.hist(majority_amt6['amount'])\n",
    "# money_lost = majority_amt6['amount'].sum()\n",
    "# proportion = round((money_lost/total_lost*100),2) \n",
    "# print(f\"Total money lost in this range: {money_lost}\")\n",
    "# print(f\"proportion to total: {proportion}%\")"
   ]
  },
  {
   "cell_type": "markdown",
   "metadata": {},
   "source": [
    "## Times of day"
   ]
  },
  {
   "cell_type": "markdown",
   "metadata": {},
   "source": [
    "#### TODO: Also convert for day of week, and maybe week of month.  Dataset is for one month only"
   ]
  },
  {
   "cell_type": "code",
   "execution_count": 25,
   "metadata": {},
   "outputs": [],
   "source": [
    "frauds = frauds.assign(time = frauds['step']%24) "
   ]
  },
  {
   "cell_type": "code",
   "execution_count": 26,
   "metadata": {},
   "outputs": [
    {
     "data": {
      "text/html": [
       "<div>\n",
       "<style scoped>\n",
       "    .dataframe tbody tr th:only-of-type {\n",
       "        vertical-align: middle;\n",
       "    }\n",
       "\n",
       "    .dataframe tbody tr th {\n",
       "        vertical-align: top;\n",
       "    }\n",
       "\n",
       "    .dataframe thead th {\n",
       "        text-align: right;\n",
       "    }\n",
       "</style>\n",
       "<table border=\"1\" class=\"dataframe\">\n",
       "  <thead>\n",
       "    <tr style=\"text-align: right;\">\n",
       "      <th></th>\n",
       "      <th>step</th>\n",
       "      <th>type</th>\n",
       "      <th>amount</th>\n",
       "      <th>nameOrig</th>\n",
       "      <th>oldbalanceOrg</th>\n",
       "      <th>newbalanceOrig</th>\n",
       "      <th>nameDest</th>\n",
       "      <th>oldbalanceDest</th>\n",
       "      <th>newbalanceDest</th>\n",
       "      <th>isFraud</th>\n",
       "      <th>isFlaggedFraud</th>\n",
       "      <th>time</th>\n",
       "    </tr>\n",
       "  </thead>\n",
       "  <tbody>\n",
       "    <tr>\n",
       "      <th>2</th>\n",
       "      <td>1</td>\n",
       "      <td>TRANSFER</td>\n",
       "      <td>181.0</td>\n",
       "      <td>C1305486145</td>\n",
       "      <td>181.0</td>\n",
       "      <td>0.0</td>\n",
       "      <td>C553264065</td>\n",
       "      <td>0.0</td>\n",
       "      <td>0.0</td>\n",
       "      <td>1</td>\n",
       "      <td>0</td>\n",
       "      <td>1</td>\n",
       "    </tr>\n",
       "    <tr>\n",
       "      <th>3</th>\n",
       "      <td>1</td>\n",
       "      <td>CASH_OUT</td>\n",
       "      <td>181.0</td>\n",
       "      <td>C840083671</td>\n",
       "      <td>181.0</td>\n",
       "      <td>0.0</td>\n",
       "      <td>C38997010</td>\n",
       "      <td>21182.0</td>\n",
       "      <td>0.0</td>\n",
       "      <td>1</td>\n",
       "      <td>0</td>\n",
       "      <td>1</td>\n",
       "    </tr>\n",
       "    <tr>\n",
       "      <th>251</th>\n",
       "      <td>1</td>\n",
       "      <td>TRANSFER</td>\n",
       "      <td>2806.0</td>\n",
       "      <td>C1420196421</td>\n",
       "      <td>2806.0</td>\n",
       "      <td>0.0</td>\n",
       "      <td>C972765878</td>\n",
       "      <td>0.0</td>\n",
       "      <td>0.0</td>\n",
       "      <td>1</td>\n",
       "      <td>0</td>\n",
       "      <td>1</td>\n",
       "    </tr>\n",
       "    <tr>\n",
       "      <th>252</th>\n",
       "      <td>1</td>\n",
       "      <td>CASH_OUT</td>\n",
       "      <td>2806.0</td>\n",
       "      <td>C2101527076</td>\n",
       "      <td>2806.0</td>\n",
       "      <td>0.0</td>\n",
       "      <td>C1007251739</td>\n",
       "      <td>26202.0</td>\n",
       "      <td>0.0</td>\n",
       "      <td>1</td>\n",
       "      <td>0</td>\n",
       "      <td>1</td>\n",
       "    </tr>\n",
       "    <tr>\n",
       "      <th>680</th>\n",
       "      <td>1</td>\n",
       "      <td>TRANSFER</td>\n",
       "      <td>20128.0</td>\n",
       "      <td>C137533655</td>\n",
       "      <td>20128.0</td>\n",
       "      <td>0.0</td>\n",
       "      <td>C1848415041</td>\n",
       "      <td>0.0</td>\n",
       "      <td>0.0</td>\n",
       "      <td>1</td>\n",
       "      <td>0</td>\n",
       "      <td>1</td>\n",
       "    </tr>\n",
       "  </tbody>\n",
       "</table>\n",
       "</div>"
      ],
      "text/plain": [
       "     step      type   amount     nameOrig  oldbalanceOrg  newbalanceOrig  \\\n",
       "2       1  TRANSFER    181.0  C1305486145          181.0             0.0   \n",
       "3       1  CASH_OUT    181.0   C840083671          181.0             0.0   \n",
       "251     1  TRANSFER   2806.0  C1420196421         2806.0             0.0   \n",
       "252     1  CASH_OUT   2806.0  C2101527076         2806.0             0.0   \n",
       "680     1  TRANSFER  20128.0   C137533655        20128.0             0.0   \n",
       "\n",
       "        nameDest  oldbalanceDest  newbalanceDest  isFraud  isFlaggedFraud  \\\n",
       "2     C553264065             0.0             0.0        1               0   \n",
       "3      C38997010         21182.0             0.0        1               0   \n",
       "251   C972765878             0.0             0.0        1               0   \n",
       "252  C1007251739         26202.0             0.0        1               0   \n",
       "680  C1848415041             0.0             0.0        1               0   \n",
       "\n",
       "     time  \n",
       "2       1  \n",
       "3       1  \n",
       "251     1  \n",
       "252     1  \n",
       "680     1  "
      ]
     },
     "execution_count": 26,
     "metadata": {},
     "output_type": "execute_result"
    }
   ],
   "source": [
    "frauds.head()"
   ]
  },
  {
   "cell_type": "code",
   "execution_count": 27,
   "metadata": {},
   "outputs": [
    {
     "data": {
      "text/plain": [
       "(array([1030.,  600.,  724., 1037.,  699.,  685., 1039.,  696.,  682.,\n",
       "        1021.]),\n",
       " array([ 0. ,  2.3,  4.6,  6.9,  9.2, 11.5, 13.8, 16.1, 18.4, 20.7, 23. ]),\n",
       " <a list of 10 Patch objects>)"
      ]
     },
     "execution_count": 27,
     "metadata": {},
     "output_type": "execute_result"
    },
    {
     "data": {
      "image/png": "[encoded data removed]",
      "text/plain": [
       "<Figure size 432x288 with 1 Axes>"
      ]
     },
     "metadata": {
      "image/png": {
       "height": 248,
       "width": 381
      },
      "needs_background": "light"
     },
     "output_type": "display_data"
    }
   ],
   "source": [
    "plt.hist(frauds['time'])"
   ]
  },
  {
   "cell_type": "code",
   "execution_count": 28,
   "metadata": {},
   "outputs": [],
   "source": [
    "legit = legit.assign(time = legit['step']%24)"
   ]
  },
  {
   "cell_type": "code",
   "execution_count": 29,
   "metadata": {},
   "outputs": [
    {
     "data": {
      "text/html": [
       "<div>\n",
       "<style scoped>\n",
       "    .dataframe tbody tr th:only-of-type {\n",
       "        vertical-align: middle;\n",
       "    }\n",
       "\n",
       "    .dataframe tbody tr th {\n",
       "        vertical-align: top;\n",
       "    }\n",
       "\n",
       "    .dataframe thead th {\n",
       "        text-align: right;\n",
       "    }\n",
       "</style>\n",
       "<table border=\"1\" class=\"dataframe\">\n",
       "  <thead>\n",
       "    <tr style=\"text-align: right;\">\n",
       "      <th></th>\n",
       "      <th>step</th>\n",
       "      <th>type</th>\n",
       "      <th>amount</th>\n",
       "      <th>nameOrig</th>\n",
       "      <th>oldbalanceOrg</th>\n",
       "      <th>newbalanceOrig</th>\n",
       "      <th>nameDest</th>\n",
       "      <th>oldbalanceDest</th>\n",
       "      <th>newbalanceDest</th>\n",
       "      <th>isFraud</th>\n",
       "      <th>isFlaggedFraud</th>\n",
       "      <th>time</th>\n",
       "    </tr>\n",
       "  </thead>\n",
       "  <tbody>\n",
       "    <tr>\n",
       "      <th>0</th>\n",
       "      <td>1</td>\n",
       "      <td>PAYMENT</td>\n",
       "      <td>9839.64</td>\n",
       "      <td>C1231006815</td>\n",
       "      <td>170136.0</td>\n",
       "      <td>160296.36</td>\n",
       "      <td>M1979787155</td>\n",
       "      <td>0.0</td>\n",
       "      <td>0.0</td>\n",
       "      <td>0</td>\n",
       "      <td>0</td>\n",
       "      <td>1</td>\n",
       "    </tr>\n",
       "    <tr>\n",
       "      <th>1</th>\n",
       "      <td>1</td>\n",
       "      <td>PAYMENT</td>\n",
       "      <td>1864.28</td>\n",
       "      <td>C1666544295</td>\n",
       "      <td>21249.0</td>\n",
       "      <td>19384.72</td>\n",
       "      <td>M2044282225</td>\n",
       "      <td>0.0</td>\n",
       "      <td>0.0</td>\n",
       "      <td>0</td>\n",
       "      <td>0</td>\n",
       "      <td>1</td>\n",
       "    </tr>\n",
       "    <tr>\n",
       "      <th>4</th>\n",
       "      <td>1</td>\n",
       "      <td>PAYMENT</td>\n",
       "      <td>11668.14</td>\n",
       "      <td>C2048537720</td>\n",
       "      <td>41554.0</td>\n",
       "      <td>29885.86</td>\n",
       "      <td>M1230701703</td>\n",
       "      <td>0.0</td>\n",
       "      <td>0.0</td>\n",
       "      <td>0</td>\n",
       "      <td>0</td>\n",
       "      <td>1</td>\n",
       "    </tr>\n",
       "    <tr>\n",
       "      <th>5</th>\n",
       "      <td>1</td>\n",
       "      <td>PAYMENT</td>\n",
       "      <td>7817.71</td>\n",
       "      <td>C90045638</td>\n",
       "      <td>53860.0</td>\n",
       "      <td>46042.29</td>\n",
       "      <td>M573487274</td>\n",
       "      <td>0.0</td>\n",
       "      <td>0.0</td>\n",
       "      <td>0</td>\n",
       "      <td>0</td>\n",
       "      <td>1</td>\n",
       "    </tr>\n",
       "    <tr>\n",
       "      <th>6</th>\n",
       "      <td>1</td>\n",
       "      <td>PAYMENT</td>\n",
       "      <td>7107.77</td>\n",
       "      <td>C154988899</td>\n",
       "      <td>183195.0</td>\n",
       "      <td>176087.23</td>\n",
       "      <td>M408069119</td>\n",
       "      <td>0.0</td>\n",
       "      <td>0.0</td>\n",
       "      <td>0</td>\n",
       "      <td>0</td>\n",
       "      <td>1</td>\n",
       "    </tr>\n",
       "  </tbody>\n",
       "</table>\n",
       "</div>"
      ],
      "text/plain": [
       "   step     type    amount     nameOrig  oldbalanceOrg  newbalanceOrig  \\\n",
       "0     1  PAYMENT   9839.64  C1231006815       170136.0       160296.36   \n",
       "1     1  PAYMENT   1864.28  C1666544295        21249.0        19384.72   \n",
       "4     1  PAYMENT  11668.14  C2048537720        41554.0        29885.86   \n",
       "5     1  PAYMENT   7817.71    C90045638        53860.0        46042.29   \n",
       "6     1  PAYMENT   7107.77   C154988899       183195.0       176087.23   \n",
       "\n",
       "      nameDest  oldbalanceDest  newbalanceDest  isFraud  isFlaggedFraud  time  \n",
       "0  M1979787155             0.0             0.0        0               0     1  \n",
       "1  M2044282225             0.0             0.0        0               0     1  \n",
       "4  M1230701703             0.0             0.0        0               0     1  \n",
       "5   M573487274             0.0             0.0        0               0     1  \n",
       "6   M408069119             0.0             0.0        0               0     1  "
      ]
     },
     "execution_count": 29,
     "metadata": {},
     "output_type": "execute_result"
    }
   ],
   "source": [
    "legit.head()"
   ]
  },
  {
   "cell_type": "code",
   "execution_count": 30,
   "metadata": {},
   "outputs": [
    {
     "data": {
      "text/plain": [
       "(array([ 106686.,    2648.,    4337.,  318384.,  871022.,  951207.,\n",
       "        1296912., 1019754., 1200860.,  582597.]),\n",
       " array([ 0. ,  2.3,  4.6,  6.9,  9.2, 11.5, 13.8, 16.1, 18.4, 20.7, 23. ]),\n",
       " <a list of 10 Patch objects>)"
      ]
     },
     "execution_count": 30,
     "metadata": {},
     "output_type": "execute_result"
    },
    {
     "data": {
      "image/png": "[encoded data removed]",
      "text/plain": [
       "<Figure size 432x288 with 1 Axes>"
      ]
     },
     "metadata": {
      "image/png": {
       "height": 248,
       "width": 400
      },
      "needs_background": "light"
     },
     "output_type": "display_data"
    }
   ],
   "source": [
    "plt.hist(legit['time'])"
   ]
  },
  {
   "cell_type": "code",
   "execution_count": 31,
   "metadata": {},
   "outputs": [],
   "source": [
    "# fraud_time ={}\n",
    "# for i in range(0,total_cases,1):\n",
    "#     time = frauds.iloc[i].time\n",
    "#     if time not in fraud_time:\n",
    "#         fraud_time[time] = 1\n",
    "#     else:\n",
    "#         fraud_time[time] += 1"
   ]
  },
  {
   "cell_type": "code",
   "execution_count": 32,
   "metadata": {},
   "outputs": [],
   "source": [
    "# legit_time={}        \n",
    "# for i in range(0,total_legit,1):\n",
    "#     time = legit.iloc[i].time\n",
    "#     if time not in legit_time:\n",
    "#         legit_time[time] = 1        \n",
    "#     else:\n",
    "#         legit_time[time] += 1"
   ]
  },
  {
   "cell_type": "markdown",
   "metadata": {},
   "source": [
    "#### Frequency of fraud transactions at time intervals"
   ]
  },
  {
   "cell_type": "code",
   "execution_count": 33,
   "metadata": {},
   "outputs": [],
   "source": [
    "# plt.bar(fraud_time.keys(), fraud_time.values())"
   ]
  },
  {
   "cell_type": "markdown",
   "metadata": {},
   "source": [
    "Looks like no correlation between time of day and fraud...\n",
    "\n"
   ]
  },
  {
   "cell_type": "markdown",
   "metadata": {},
   "source": [
    "#### Frequency of legit transactions at time intervals"
   ]
  },
  {
   "cell_type": "code",
   "execution_count": 34,
   "metadata": {},
   "outputs": [],
   "source": [
    "# plt.bar(legit_time.keys(), legit_time.values())"
   ]
  },
  {
   "cell_type": "markdown",
   "metadata": {},
   "source": [
    "...but there's definately time's of day for 'normal' business"
   ]
  },
  {
   "cell_type": "markdown",
   "metadata": {},
   "source": [
    "## Confusion Matrix"
   ]
  },
  {
   "cell_type": "code",
   "execution_count": 35,
   "metadata": {},
   "outputs": [],
   "source": [
    "from sklearn import svm, datasets\n",
    "from sklearn.model_selection import train_test_split\n",
    "import sklearn.metrics as metrics\n",
    "from sklearn.metrics import plot_confusion_matrix\n",
    "import seaborn as sn"
   ]
  },
  {
   "cell_type": "code",
   "execution_count": 36,
   "metadata": {},
   "outputs": [
    {
     "name": "stdout",
     "output_type": "stream",
     "text": [
      "[[     16    8197]\n",
      " [      0 6354407]]\n",
      "              precision    recall  f1-score   support\n",
      "\n",
      "           1       1.00      0.00      0.00      8213\n",
      "           0       1.00      1.00      1.00   6354407\n",
      "\n",
      "    accuracy                           1.00   6362620\n",
      "   macro avg       1.00      0.50      0.50   6362620\n",
      "weighted avg       1.00      1.00      1.00   6362620\n",
      "\n"
     ]
    },
    {
     "data": {
      "image/png": "[encoded data removed]",
      "text/plain": [
       "<Figure size 432x288 with 2 Axes>"
      ]
     },
     "metadata": {
      "image/png": {
       "height": 255,
       "width": 412
      }
     },
     "output_type": "display_data"
    }
   ],
   "source": [
    "# Predicted values\n",
    "y_pred = fraud.isFlaggedFraud\n",
    "# Actual values\n",
    "y_act = fraud.isFraud\n",
    "# plt.show()\n",
    "print(metrics.confusion_matrix(y_act, y_pred, labels=[1, 0]))\n",
    "print(metrics.classification_report(y_act, y_pred, labels=[1, 0]))\n",
    "# metrics.confusion_matrix(y_act, y_pred, labels=[1, 0])\n",
    "# metrics.classification_report(y_act, y_pred, labels=[1, 0])\n",
    "g_conf = metrics.confusion_matrix(y_act, y_pred, labels=[1, 0])\n",
    "df_g_conf = pd.DataFrame(g_conf, range(2), range(2))\n",
    "sn.set(font_scale=1.4)\n",
    "sn.heatmap(df_g_conf, annot=True, annot_kws={\"size\": 16})\n",
    "\n",
    "plt.show()"
   ]
  },
  {
   "cell_type": "markdown",
   "metadata": {},
   "source": [
    "## Decision Tree"
   ]
  },
  {
   "cell_type": "code",
   "execution_count": 37,
   "metadata": {},
   "outputs": [],
   "source": [
    "# fraud['type'] = fraud['type'].map({'PAYMENT': 0, 'TRANSFER': 1, 'CASH_OUT': 2})"
   ]
  },
  {
   "cell_type": "code",
   "execution_count": 38,
   "metadata": {},
   "outputs": [],
   "source": [
    "# X = fraud.drop(columns=['isFraud', 'nameOrig', 'nameDest'])"
   ]
  },
  {
   "cell_type": "code",
   "execution_count": 39,
   "metadata": {},
   "outputs": [],
   "source": [
    "# y = fraud['isFraud']"
   ]
  },
  {
   "cell_type": "code",
   "execution_count": 40,
   "metadata": {},
   "outputs": [],
   "source": [
    "# model = tree.DecisionTreeClassifier(max_depth=5)"
   ]
  },
  {
   "cell_type": "markdown",
   "metadata": {},
   "source": [
    "## Logistic Regression"
   ]
  },
  {
   "cell_type": "code",
   "execution_count": 41,
   "metadata": {},
   "outputs": [],
   "source": [
    "from scipy.stats import norm\n",
    "from sklearn import linear_model\n",
    "from sklearn.linear_model import LogisticRegression\n",
    "from matplotlib.colors import ListedColormap"
   ]
  },
  {
   "cell_type": "code",
   "execution_count": 58,
   "metadata": {},
   "outputs": [],
   "source": [
    "fraud = fraud.assign(time = fraud['step']%24)"
   ]
  },
  {
   "cell_type": "code",
   "execution_count": 51,
   "metadata": {},
   "outputs": [
    {
     "name": "stdout",
     "output_type": "stream",
     "text": [
      "accuracy on the training set: 0.9973154771748705\n",
      "accuracy on the testing set: 0.9973314790692801\n"
     ]
    }
   ],
   "source": [
    "X = fraud[['time', 'amount']]\n",
    "y = fraud['isFraud']\n",
    "\n",
    "X_train, X_test, y_train, y_test = train_test_split(X, y, test_size=0.33, random_state=0)\n",
    "\n",
    "\n",
    "model=LogisticRegression()\n",
    "model.fit(X_train, y_train)\n",
    "\n",
    "# check the accuracy on the training set\n",
    "print(\"accuracy on the training set:\",model.score(X_train, y_train))\n",
    "\n",
    "# check the accuracy on the test dataset\n",
    "print(\"accuracy on the testing set:\",model.score(X_test, y_test))\n",
    "\n",
    "# traina = train[train['isFraud']=='1']\n",
    "# trainb = train[train['isFraud']=='0']\n",
    "# plt.plot(traina['x'], traina['y'],'bs', label='is fraud')\n",
    "# plt.plot(trainb['x'], trainb['y'],'r^', label='not fraud')\n",
    "# plt.legend()\n",
    "# plt.title('Training Data')\n",
    "# plt.show()"
   ]
  },
  {
   "cell_type": "code",
   "execution_count": 57,
   "metadata": {},
   "outputs": [
    {
     "name": "stdout",
     "output_type": "stream",
     "text": [
      "Confusion Matrix on train data\n",
      "[[4251349    5404]\n",
      " [   6040     162]]\n",
      "              precision    recall  f1-score   support\n",
      "\n",
      "           1       0.03      0.03      0.03      6202\n",
      "           0       1.00      1.00      1.00   4256753\n",
      "\n",
      "    accuracy                           1.00   4262955\n",
      "   macro avg       0.51      0.51      0.51   4262955\n",
      "weighted avg       1.00      1.00      1.00   4262955\n",
      "\n"
     ]
    },
    {
     "data": {
      "image/png": "[encoded data removed]",
      "text/plain": [
       "<Figure size 432x288 with 2 Axes>"
      ]
     },
     "metadata": {
      "image/png": {
       "height": 255,
       "width": 412
      }
     },
     "output_type": "display_data"
    },
    {
     "name": "stdout",
     "output_type": "stream",
     "text": [
      "Confusion Matrix on test data\n",
      "[[2093988    2573]\n",
      " [   3030      74]]\n",
      "              precision    recall  f1-score   support\n",
      "\n",
      "           1       0.03      0.03      0.03      6202\n",
      "           0       1.00      1.00      1.00   4256753\n",
      "\n",
      "    accuracy                           1.00   4262955\n",
      "   macro avg       0.51      0.51      0.51   4262955\n",
      "weighted avg       1.00      1.00      1.00   4262955\n",
      "\n"
     ]
    },
    {
     "data": {
      "image/png": "[encoded data removed]",
      "text/plain": [
       "<Figure size 432x288 with 2 Axes>"
      ]
     },
     "metadata": {
      "image/png": {
       "height": 255,
       "width": 412
      }
     },
     "output_type": "display_data"
    }
   ],
   "source": [
    "# Predicted values\n",
    "y_pred = fraud.isFlaggedFraud\n",
    "# Actual values\n",
    "y_act = fraud.isFraud\n",
    "\n",
    "\n",
    "# Predict class labels for the train set\n",
    "predicted = model.predict(X_train)\n",
    "# Confusion Matrix for train data\n",
    "print('Confusion Matrix on train data')\n",
    "print(metrics.confusion_matrix(predicted, y_train))\n",
    "print(metrics.classification_report(predicted, y_train, labels=[1, 0]))\n",
    "g_conf = metrics.confusion_matrix(predicted, y_train, labels=[1, 0])\n",
    "df_g_conf = pd.DataFrame(g_conf, range(2), range(2))\n",
    "sn.set(font_scale=1.4)\n",
    "sn.heatmap(df_g_conf, annot=True, annot_kws={\"size\": 16})\n",
    "plt.show()\n",
    "\n",
    "# Predict class labels for the test dataset\n",
    "predicted_test = model.predict(X_test)\n",
    "# Confusion Matrix for test data\n",
    "print('Confusion Matrix on test data')\n",
    "print(metrics.confusion_matrix(predicted_test, y_test))\n",
    "print(metrics.classification_report(predicted, y_train, labels=[1, 0]))\n",
    "g_conf = metrics.confusion_matrix(predicted_test, y_test, labels=[1, 0])\n",
    "df_g_conf = pd.DataFrame(g_conf, range(2), range(2))\n",
    "sn.set(font_scale=1.4)\n",
    "sn.heatmap(df_g_conf, annot=True, annot_kws={\"size\": 16})\n",
    "plt.show()"
   ]
  },
  {
   "cell_type": "code",
   "execution_count": null,
   "metadata": {},
   "outputs": [],
   "source": []
  }
 ],
 "metadata": {
  "kernelspec": {
   "display_name": "Python 3",
   "language": "python",
   "name": "python3"
  },
  "language_info": {
   "codemirror_mode": {
    "name": "ipython",
    "version": 3
   },
   "file_extension": ".py",
   "mimetype": "text/x-python",
   "name": "python",
   "nbconvert_exporter": "python",
   "pygments_lexer": "ipython3",
   "version": "3.8.5"
  }
 },
 "nbformat": 4,
 "nbformat_minor": 4
}
